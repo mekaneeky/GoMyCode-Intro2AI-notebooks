{
  "nbformat": 4,
  "nbformat_minor": 0,
  "metadata": {
    "colab": {
      "name": "What isJupyter.ipynb",
      "provenance": [],
      "authorship_tag": "ABX9TyPQf2QGJBk2XoQ9eMysJzep",
      "include_colab_link": true
    },
    "kernelspec": {
      "name": "python3",
      "display_name": "Python 3"
    },
    "language_info": {
      "name": "python"
    }
  },
  "cells": [
    {
      "cell_type": "markdown",
      "metadata": {
        "id": "view-in-github",
        "colab_type": "text"
      },
      "source": [
        "<a href=\"https://colab.research.google.com/github/mekaneeky/GoMyCode-Intro2AI-notebooks/blob/main/What_isJupyter.ipynb\" target=\"_parent\"><img src=\"https://colab.research.google.com/assets/colab-badge.svg\" alt=\"Open In Colab\"/></a>"
      ]
    },
    {
      "cell_type": "code",
      "execution_count": null,
      "metadata": {
        "id": "aAHv1vfi9bJA"
      },
      "outputs": [],
      "source": [
        "print(\"Welcome to python world! Let's start coding\")"
      ]
    },
    {
      "cell_type": "code",
      "source": [
        ""
      ],
      "metadata": {
        "id": "63kfy-zQ9dkH"
      },
      "execution_count": null,
      "outputs": []
    }
  ]
}
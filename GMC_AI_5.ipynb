{
  "nbformat": 4,
  "nbformat_minor": 0,
  "metadata": {
    "colab": {
      "name": "GMC AI 5.ipynb",
      "provenance": [],
      "collapsed_sections": [],
      "authorship_tag": "ABX9TyP16kjAFRo9bwHCY1BJ8NA7",
      "include_colab_link": true
    },
    "kernelspec": {
      "name": "python3",
      "display_name": "Python 3"
    }
  },
  "cells": [
    {
      "cell_type": "markdown",
      "metadata": {
        "id": "view-in-github",
        "colab_type": "text"
      },
      "source": [
        "<a href=\"https://colab.research.google.com/github/mekaneeky/GoMyCode-Intro2AI-notebooks/blob/main/GMC_AI_5.ipynb\" target=\"_parent\"><img src=\"https://colab.research.google.com/assets/colab-badge.svg\" alt=\"Open In Colab\"/></a>"
      ]
    },
    {
      "cell_type": "code",
      "metadata": {
        "id": "aL1E8Al6vmhY"
      },
      "source": [
        "import pandas as pd\n",
        "import seaborn as sn\n",
        "import matplotlib.pyplot as plt\n",
        "\n",
        "\n",
        "from sklearn.model_selection import train_test_split\n",
        "from sklearn.linear_model import LogisticRegression\n",
        "from sklearn import metrics\n",
        "from sklearn import preprocessing\n",
        "from sklearn.preprocessing import MinMaxScaler\n"
      ],
      "execution_count": 68,
      "outputs": []
    },
    {
      "cell_type": "code",
      "metadata": {
        "colab": {
          "base_uri": "https://localhost:8080/"
        },
        "id": "o4i509mDvhkJ",
        "outputId": "6b333b14-0c59-45c2-d8ab-fe183cff28fb"
      },
      "source": [
        "!gdown --id 1YdbRKJZ0Kz742yDxIStLZIPIEUGlc1Cc\n"
      ],
      "execution_count": 25,
      "outputs": [
        {
          "output_type": "stream",
          "text": [
            "Downloading...\n",
            "From: https://drive.google.com/uc?id=1YdbRKJZ0Kz742yDxIStLZIPIEUGlc1Cc\n",
            "To: /content/titanic-passengers.csv\n",
            "\r  0% 0.00/62.6k [00:00<?, ?B/s]\r100% 62.6k/62.6k [00:00<00:00, 47.6MB/s]\n"
          ],
          "name": "stdout"
        }
      ]
    },
    {
      "cell_type": "code",
      "metadata": {
        "id": "GXzd3eSivwY5"
      },
      "source": [
        "titanic_df = pd.read_csv(\"titanic-passengers.csv\", delimiter=\";\")"
      ],
      "execution_count": 53,
      "outputs": []
    },
    {
      "cell_type": "code",
      "metadata": {
        "colab": {
          "base_uri": "https://localhost:8080/",
          "height": 204
        },
        "id": "xmweDg7WwAKz",
        "outputId": "7741130a-9c6a-4d0f-9fee-dd0c2b4cf73a"
      },
      "source": [
        "titanic_df.head()"
      ],
      "execution_count": 58,
      "outputs": [
        {
          "output_type": "execute_result",
          "data": {
            "text/html": [
              "<div>\n",
              "<style scoped>\n",
              "    .dataframe tbody tr th:only-of-type {\n",
              "        vertical-align: middle;\n",
              "    }\n",
              "\n",
              "    .dataframe tbody tr th {\n",
              "        vertical-align: top;\n",
              "    }\n",
              "\n",
              "    .dataframe thead th {\n",
              "        text-align: right;\n",
              "    }\n",
              "</style>\n",
              "<table border=\"1\" class=\"dataframe\">\n",
              "  <thead>\n",
              "    <tr style=\"text-align: right;\">\n",
              "      <th></th>\n",
              "      <th>Survived</th>\n",
              "      <th>Sex</th>\n",
              "      <th>Age</th>\n",
              "      <th>SibSp</th>\n",
              "      <th>Parch</th>\n",
              "      <th>Fare</th>\n",
              "      <th>C</th>\n",
              "      <th>Q</th>\n",
              "      <th>S</th>\n",
              "      <th>1</th>\n",
              "      <th>2</th>\n",
              "      <th>3</th>\n",
              "    </tr>\n",
              "  </thead>\n",
              "  <tbody>\n",
              "    <tr>\n",
              "      <th>854</th>\n",
              "      <td>0</td>\n",
              "      <td>0</td>\n",
              "      <td>22.0</td>\n",
              "      <td>1</td>\n",
              "      <td>0</td>\n",
              "      <td>7.2500</td>\n",
              "      <td>0</td>\n",
              "      <td>0</td>\n",
              "      <td>1</td>\n",
              "      <td>0</td>\n",
              "      <td>0</td>\n",
              "      <td>1</td>\n",
              "    </tr>\n",
              "    <tr>\n",
              "      <th>298</th>\n",
              "      <td>1</td>\n",
              "      <td>1</td>\n",
              "      <td>38.0</td>\n",
              "      <td>1</td>\n",
              "      <td>0</td>\n",
              "      <td>71.2833</td>\n",
              "      <td>1</td>\n",
              "      <td>0</td>\n",
              "      <td>0</td>\n",
              "      <td>1</td>\n",
              "      <td>0</td>\n",
              "      <td>0</td>\n",
              "    </tr>\n",
              "    <tr>\n",
              "      <th>323</th>\n",
              "      <td>1</td>\n",
              "      <td>1</td>\n",
              "      <td>26.0</td>\n",
              "      <td>0</td>\n",
              "      <td>0</td>\n",
              "      <td>7.9250</td>\n",
              "      <td>0</td>\n",
              "      <td>0</td>\n",
              "      <td>1</td>\n",
              "      <td>0</td>\n",
              "      <td>0</td>\n",
              "      <td>1</td>\n",
              "    </tr>\n",
              "    <tr>\n",
              "      <th>431</th>\n",
              "      <td>1</td>\n",
              "      <td>1</td>\n",
              "      <td>35.0</td>\n",
              "      <td>1</td>\n",
              "      <td>0</td>\n",
              "      <td>53.1000</td>\n",
              "      <td>0</td>\n",
              "      <td>0</td>\n",
              "      <td>1</td>\n",
              "      <td>1</td>\n",
              "      <td>0</td>\n",
              "      <td>0</td>\n",
              "    </tr>\n",
              "    <tr>\n",
              "      <th>401</th>\n",
              "      <td>0</td>\n",
              "      <td>0</td>\n",
              "      <td>35.0</td>\n",
              "      <td>0</td>\n",
              "      <td>0</td>\n",
              "      <td>8.0500</td>\n",
              "      <td>0</td>\n",
              "      <td>0</td>\n",
              "      <td>1</td>\n",
              "      <td>0</td>\n",
              "      <td>0</td>\n",
              "      <td>1</td>\n",
              "    </tr>\n",
              "  </tbody>\n",
              "</table>\n",
              "</div>"
            ],
            "text/plain": [
              "     Survived  Sex   Age  SibSp  Parch     Fare  C  Q  S  1  2  3\n",
              "854         0    0  22.0      1      0   7.2500  0  0  1  0  0  1\n",
              "298         1    1  38.0      1      0  71.2833  1  0  0  1  0  0\n",
              "323         1    1  26.0      0      0   7.9250  0  0  1  0  0  1\n",
              "431         1    1  35.0      1      0  53.1000  0  0  1  1  0  0\n",
              "401         0    0  35.0      0      0   8.0500  0  0  1  0  0  1"
            ]
          },
          "metadata": {
            "tags": []
          },
          "execution_count": 58
        }
      ]
    },
    {
      "cell_type": "code",
      "metadata": {
        "id": "vpsap5p5WYNX"
      },
      "source": [
        "titanic_df[\"Age\"].fillna(titanic_df[\"Age\"].mean(), inplace=True)\n",
        "\n",
        "## Since we have 3 values at the same frequency for the most frequent in the cabin\n",
        "# it is best to fill the 3 values equally. To affect the distribution less\n",
        "most_frequent_cabin = [\"G6\", \"C23 C25 C27\", \"B96 B98\"]\n",
        "third_of_passengers = len(titanic_df)//3\n",
        "\n",
        "titanic_df[\"Cabin\"][:third_of_passengers].fillna(most_frequent_cabin[0], inplace=True)\n",
        "titanic_df[\"Cabin\"][third_of_passengers:third_of_passengers*2].fillna(most_frequent_cabin[1], inplace=True)\n",
        "titanic_df[\"Cabin\"][third_of_passengers*2:].fillna(most_frequent_cabin[2], inplace=True)\n",
        "\n",
        "titanic_df[\"Embarked\"].fillna(\"S\", inplace=True)\n",
        "\n",
        "passenger_ids = titanic_df[\"PassengerId\"]\n",
        "\n",
        "titanic_df.drop(columns=\"Name\", inplace=True)\n",
        "titanic_df.drop(columns=\"Ticket\", inplace=True)\n",
        "titanic_df.drop(columns=\"Cabin\", inplace=True)\n",
        "\n"
      ],
      "execution_count": 55,
      "outputs": []
    },
    {
      "cell_type": "code",
      "metadata": {
        "id": "YA2F8n3EWgLs"
      },
      "source": [
        "###\n",
        "# Numerization \n",
        "#\n",
        "\n",
        "replacement_dict = {\"Survived\":{\"Yes\":1, \"No\":0},\n",
        "                    \"Sex\":{\"female\":1,\"male\":0}}\n",
        "\n",
        "try:\n",
        "    titanic_df.replace(replacement_dict,inplace=True)\n",
        "except TypeError:\n",
        "    pass\n",
        "\n",
        "try:\n",
        "    one_hot_embarked = pd.get_dummies(titanic_df[\"Embarked\"])\n",
        "    titanic_df.drop(columns=\"Embarked\", inplace=True)\n",
        "    titanic_df = titanic_df.join(one_hot_embarked)\n",
        "except KeyError:\n",
        "    pass\n",
        "\n",
        "try:\n",
        "    one_hot_pclass = pd.get_dummies(titanic_df[\"Pclass\"])\n",
        "    titanic_df.drop(columns=\"Pclass\", inplace=True)\n",
        "    titanic_df = titanic_df.join(one_hot_pclass)\n",
        "except KeyError:\n",
        "    pass\n",
        "\n",
        "scaler = preprocessing.MinMaxScaler() \n",
        "scaled_values = scaler.fit_transform(titanic_df) \n",
        "titanic_df.loc[:,:] = scaled_values"
      ],
      "execution_count": 60,
      "outputs": []
    },
    {
      "cell_type": "code",
      "metadata": {
        "id": "1KkCk5KrwQnQ",
        "colab": {
          "base_uri": "https://localhost:8080/"
        },
        "outputId": "a3ad0084-1007-4dc0-ca32-6e638388b8c7"
      },
      "source": [
        "train_df, test_df = train_test_split(titanic_df,test_size=0.25,random_state=42)  #splitting data with test size of 25%\n",
        "\n",
        "titanic_df.sort_values(\"PassengerId\", inplace=True)\n",
        "train_df.sort_values(\"PassengerId\", inplace=True)\n",
        "test_df.sort_values(\"PassengerId\", inplace=True)\n",
        "\n",
        "titanic_df.drop(columns=\"PassengerId\", inplace=True)\n",
        "train_df.drop(columns=\"PassengerId\", inplace=True)\n",
        "test_df.drop(columns=\"PassengerId\", inplace=True)\n"
      ],
      "execution_count": 57,
      "outputs": [
        {
          "output_type": "stream",
          "text": [
            "/usr/local/lib/python3.7/dist-packages/ipykernel_launcher.py:4: SettingWithCopyWarning: \n",
            "A value is trying to be set on a copy of a slice from a DataFrame\n",
            "\n",
            "See the caveats in the documentation: https://pandas.pydata.org/pandas-docs/stable/user_guide/indexing.html#returning-a-view-versus-a-copy\n",
            "  after removing the cwd from sys.path.\n",
            "/usr/local/lib/python3.7/dist-packages/ipykernel_launcher.py:5: SettingWithCopyWarning: \n",
            "A value is trying to be set on a copy of a slice from a DataFrame\n",
            "\n",
            "See the caveats in the documentation: https://pandas.pydata.org/pandas-docs/stable/user_guide/indexing.html#returning-a-view-versus-a-copy\n",
            "  \"\"\"\n",
            "/usr/local/lib/python3.7/dist-packages/pandas/core/frame.py:4174: SettingWithCopyWarning: \n",
            "A value is trying to be set on a copy of a slice from a DataFrame\n",
            "\n",
            "See the caveats in the documentation: https://pandas.pydata.org/pandas-docs/stable/user_guide/indexing.html#returning-a-view-versus-a-copy\n",
            "  errors=errors,\n"
          ],
          "name": "stderr"
        }
      ]
    },
    {
      "cell_type": "code",
      "metadata": {
        "colab": {
          "base_uri": "https://localhost:8080/"
        },
        "id": "xdv5-PjpvVwe",
        "outputId": "6825d597-68fc-41fb-e447-18b662d9a326"
      },
      "source": [
        "\n",
        "\n",
        "#features extraction\n",
        "x_train = train_df.drop(columns=\"Survived\").values\n",
        "y_train = train_df['Survived'].values\n",
        "\n",
        "x_test = test_df.drop(columns=\"Survived\").values\n",
        "y_test = test_df['Survived'].values\n",
        "\n",
        "\n",
        "logreg = LogisticRegression()   #build our logistic model\n",
        "logreg.fit(x_train, y_train)  #fitting training data\n",
        "y_pred  = logreg.predict(x_test)    #testing model’s performance\n",
        "print(\"Accuracy={:.2f}\".format(logreg.score(x_test, y_test)))\n",
        "confusion_matrix_results = metrics.confusion_matrix(y_test, y_pred)"
      ],
      "execution_count": 62,
      "outputs": [
        {
          "output_type": "stream",
          "text": [
            "Accuracy=0.78\n"
          ],
          "name": "stdout"
        }
      ]
    },
    {
      "cell_type": "code",
      "metadata": {
        "id": "mOSduVtfvuX7",
        "colab": {
          "base_uri": "https://localhost:8080/",
          "height": 446
        },
        "outputId": "53c8e9f3-4907-48da-fca3-3b97f6509857"
      },
      "source": [
        "plt.figure(figsize = (10,7))\n",
        "sn.heatmap(confusion_matrix_results,fmt=\"3\", annot=True)\n"
      ],
      "execution_count": 72,
      "outputs": [
        {
          "output_type": "execute_result",
          "data": {
            "text/plain": [
              "<matplotlib.axes._subplots.AxesSubplot at 0x7f5f5399d7d0>"
            ]
          },
          "metadata": {
            "tags": []
          },
          "execution_count": 72
        },
        {
          "output_type": "display_data",
          "data": {
            "image/png": "[encoded data removed]",
            "text/plain": [
              "<Figure size 720x504 with 2 Axes>"
            ]
          },
          "metadata": {
            "tags": [],
            "needs_background": "light"
          }
        }
      ]
    },
    {
      "cell_type": "markdown",
      "metadata": {
        "id": "qNblg0L2qYp4"
      },
      "source": [
        "# ROC/AUC Curves\n",
        "\n",
        "The ROC/AUC curves are plotting the relationship between the false positive rates and the true positive rates as the threshold for positive hits is varied. The area under the curve represents the amount of true positives. It returns a value of 1.0 at perfect scores and falls to 0.0 as the false positives increase."
      ]
    },
    {
      "cell_type": "code",
      "metadata": {
        "colab": {
          "base_uri": "https://localhost:8080/",
          "height": 313
        },
        "id": "cryiMlr_jszy",
        "outputId": "1671fc13-9955-46f1-fc9a-feae4b55d79e"
      },
      "source": [
        "fpr, tpr, thresholds = metrics.roc_curve(y_test,logreg.predict_proba(x_test)[:,1] )\n",
        "auc = metrics.roc_auc_score(y_test, logreg.predict_proba(x_test)[:,1])\n",
        "\n",
        "plt.title(\"ROC/AUC curve\")\n",
        "plt.plot(fpr,tpr, 'b', label = 'AUC = %0.2f' % auc)\n",
        "plt.ylabel('True Positive Rate')\n",
        "plt.xlabel('False Positive Rate')\n",
        "plt.plot([0, 1], [0, 1],'r--')\n",
        "plt.xlim([0, 1])\n",
        "plt.ylim([0, 1.05])\n",
        "plt.legend(loc = 'lower right')\n"
      ],
      "execution_count": 92,
      "outputs": [
        {
          "output_type": "execute_result",
          "data": {
            "text/plain": [
              "<matplotlib.legend.Legend at 0x7f5f5315e810>"
            ]
          },
          "metadata": {
            "tags": []
          },
          "execution_count": 92
        },
        {
          "output_type": "display_data",
          "data": {
            "image/png": "[encoded data removed]",
            "text/plain": [
              "<Figure size 432x288 with 1 Axes>"
            ]
          },
          "metadata": {
            "tags": [],
            "needs_background": "light"
          }
        }
      ]
    }
  ]
}
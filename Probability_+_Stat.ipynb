{
  "nbformat": 4,
  "nbformat_minor": 0,
  "metadata": {
    "colab": {
      "name": "Probability + Stat.ipynb",
      "provenance": [],
      "collapsed_sections": [],
      "authorship_tag": "ABX9TyOHnTEYcO2EgHWvraBzWTHm",
      "include_colab_link": true
    },
    "kernelspec": {
      "name": "python3",
      "display_name": "Python 3"
    },
    "language_info": {
      "name": "python"
    }
  },
  "cells": [
    {
      "cell_type": "markdown",
      "metadata": {
        "id": "view-in-github",
        "colab_type": "text"
      },
      "source": [
        "<a href=\"https://colab.research.google.com/github/mekaneeky/GoMyCode-Intro2AI-notebooks/blob/main/Probability_%2B_Stat.ipynb\" target=\"_parent\"><img src=\"https://colab.research.google.com/assets/colab-badge.svg\" alt=\"Open In Colab\"/></a>"
      ]
    },
    {
      "cell_type": "code",
      "metadata": {
        "colab": {
          "base_uri": "https://localhost:8080/",
          "height": 297
        },
        "id": "ptIo_9o3ilQf",
        "outputId": "e34d9c0f-36a0-4c60-a94f-392105f87d48"
      },
      "source": [
        "import seaborn as sns\n",
        "import random\n",
        "import pandas as pd\n",
        "\n",
        "def coin_toss():\n",
        "    toss_val = random.random()\n",
        "    if toss_val >  0.5:\n",
        "        return \"H\"\n",
        "    else:\n",
        "        return \"T\"\n",
        "\n",
        "tosses = [coin_toss() for i in range(10)]\n",
        "df = pd.DataFrame({\"Toss\" : tosses,})\n",
        "\n",
        "sns.countplot(x=\"Toss\", data=df)\n"
      ],
      "execution_count": 24,
      "outputs": [
        {
          "output_type": "execute_result",
          "data": {
            "text/plain": [
              "<matplotlib.axes._subplots.AxesSubplot at 0x7fbc724b2e90>"
            ]
          },
          "metadata": {},
          "execution_count": 24
        },
        {
          "output_type": "display_data",
          "data": {
            "image/png": "[encoded data removed]",
            "text/plain": [
              "<Figure size 432x288 with 1 Axes>"
            ]
          },
          "metadata": {
            "needs_background": "light"
          }
        }
      ]
    },
    {
      "cell_type": "code",
      "metadata": {
        "colab": {
          "base_uri": "https://localhost:8080/"
        },
        "id": "4DIUPsGpyRA7",
        "outputId": "7d7434c7-bdcd-450d-fab1-a47153a1620a"
      },
      "source": [
        " [coin_toss() for i in range(10)]"
      ],
      "execution_count": 25,
      "outputs": [
        {
          "output_type": "execute_result",
          "data": {
            "text/plain": [
              "['T', 'H', 'H', 'H', 'T', 'T', 'T', 'T', 'T', 'H']"
            ]
          },
          "metadata": {},
          "execution_count": 25
        }
      ]
    },
    {
      "cell_type": "code",
      "metadata": {
        "colab": {
          "base_uri": "https://localhost:8080/",
          "height": 297
        },
        "id": "uhohZLaujaL4",
        "outputId": "9232d264-ac84-485d-e8a5-0456c2d13d25"
      },
      "source": [
        "tosses = [coin_toss() for i in range(10000)]\n",
        "df = pd.DataFrame({\"Toss\" : tosses,})\n",
        "\n",
        "sns.countplot(x=\"Toss\", data=df)\n"
      ],
      "execution_count": 14,
      "outputs": [
        {
          "output_type": "execute_result",
          "data": {
            "text/plain": [
              "<matplotlib.axes._subplots.AxesSubplot at 0x7fbc71cad310>"
            ]
          },
          "metadata": {},
          "execution_count": 14
        },
        {
          "output_type": "display_data",
          "data": {
            "image/png": "[encoded data removed]",
            "text/plain": [
              "<Figure size 432x288 with 1 Axes>"
            ]
          },
          "metadata": {
            "needs_background": "light"
          }
        }
      ]
    },
    {
      "cell_type": "code",
      "metadata": {
        "id": "x_-8F_kbis_X"
      },
      "source": [
        "def food_sale():\n",
        "    toss_val = random.random()\n",
        "    if toss_val >  0.33 and toss_val <  0.66:\n",
        "        return \"Kebda\"\n",
        "    elif toss_val < 0.33:\n",
        "        return \"Sujuk\"\n",
        "    else:\n",
        "        return \"Batates\"\n",
        "\n",
        "menu = {\"Sujuk\":1,\n",
        "        \"Batates\":5,\n",
        "        \"Kebda\":10\n",
        "        }\n",
        "\n"
      ],
      "execution_count": null,
      "outputs": []
    },
    {
      "cell_type": "code",
      "metadata": {
        "colab": {
          "base_uri": "https://localhost:8080/"
        },
        "id": "Q7_x9PuwmUEm",
        "outputId": "3a1e6795-4db7-4d6c-f36d-c107e04f985f"
      },
      "source": [
        "0.3 * 1 + 0.3 *5 + 0.3 * 10\n"
      ],
      "execution_count": 15,
      "outputs": [
        {
          "output_type": "execute_result",
          "data": {
            "text/plain": [
              "4.8"
            ]
          },
          "metadata": {},
          "execution_count": 15
        }
      ]
    },
    {
      "cell_type": "code",
      "metadata": {
        "colab": {
          "base_uri": "https://localhost:8080/",
          "height": 297
        },
        "id": "eqMyB-S7nO9Q",
        "outputId": "1a2dca7c-70ba-4a90-961a-cc629af50773"
      },
      "source": [
        "def ran_var():\n",
        "    return random.random()\n",
        "\n",
        "samples = [ran_var() for i in range(10000)]\n",
        "df = pd.DataFrame({\"Samples\" : samples,})\n",
        "\n",
        "sns.histplot(x=\"Samples\", data=df)\n"
      ],
      "execution_count": 18,
      "outputs": [
        {
          "output_type": "execute_result",
          "data": {
            "text/plain": [
              "<matplotlib.axes._subplots.AxesSubplot at 0x7fbc71c4b510>"
            ]
          },
          "metadata": {},
          "execution_count": 18
        },
        {
          "output_type": "display_data",
          "data": {
            "image/png": "[encoded data removed]",
            "text/plain": [
              "<Figure size 432x288 with 1 Axes>"
            ]
          },
          "metadata": {
            "needs_background": "light"
          }
        }
      ]
    },
    {
      "cell_type": "markdown",
      "metadata": {
        "id": "dR0OHIqtlsWB"
      },
      "source": [
        ""
      ]
    },
    {
      "cell_type": "markdown",
      "metadata": {
        "id": "bpSehpGrlsSi"
      },
      "source": [
        ""
      ]
    }
  ]
}